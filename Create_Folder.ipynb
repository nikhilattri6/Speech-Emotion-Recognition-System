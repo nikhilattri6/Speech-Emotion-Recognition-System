{
 "cells": [
  {
   "cell_type": "code",
   "execution_count": 62,
   "metadata": {},
   "outputs": [],
   "source": [
    "import os\n",
    "import sys\n",
    "import shutil"
   ]
  },
  {
   "cell_type": "code",
   "execution_count": 63,
   "metadata": {},
   "outputs": [],
   "source": [
    "def createFolder(directory):\n",
    "    try:\n",
    "        if not os.path.exists(directory):\n",
    "            os.makedirs(directory)\n",
    "    except OSError:\n",
    "        print ('Error: Creating directory. ' +  directory)"
   ]
  },
  {
   "cell_type": "code",
   "execution_count": 64,
   "metadata": {},
   "outputs": [
    {
     "name": "stdout",
     "output_type": "stream",
     "text": [
      "0\n"
     ]
    }
   ],
   "source": [
    "if __name__=='__main__':\n",
    "    input_folder=\"/Users/nikhil/Downloads/download (2)/wav\"\n",
    "    for items in os.listdir(input_folder):\n",
    "        if items[-6:] == \"La.wav\" or items[-6:] == \"Lb.wav\" or items[-6:] == \"Lc.wav\" or items[-6:] == \"Ld.wav\":\n",
    "            subfolder=os.path.join(input_folder,'boredom')\n",
    "            createFolder(subfolder)\n",
    "            oldpath=os.path.join(input_folder,items)\n",
    "            shutil.copy(oldpath,subfolder)\n",
    "        elif items[-6:] == \"Wa.wav\" or items[-6:] == \"Wb.wav\" or items[-6:] == \"Wc.wav\" or items[-6:] == \"Wd.wav\":\n",
    "            subfolder=os.path.join(input_folder,'anger')\n",
    "            createFolder(subfolder)\n",
    "            oldpath=os.path.join(input_folder,items)\n",
    "            shutil.copy(oldpath,subfolder)\n",
    "        elif items[-6:] == \"Ea.wav\" or items[-6:] == \"Eb.wav\" or items[-6:] == \"Ec.wav\" or items[-6:] == \"Ed.wav\":\n",
    "            subfolder=os.path.join(input_folder,'disgust')\n",
    "            createFolder(subfolder)\n",
    "            oldpath=os.path.join(input_folder,items)\n",
    "            shutil.copy(oldpath,subfolder)\n",
    "        elif items[-6:] == \"Aa.wav\" or items[-6:] == \"Ab.wav\" or items[-6:] == \"Ac.wav\" or items[-6:] == \"Ad.wav\":\n",
    "            subfolder=os.path.join(input_folder,'anxietyorfear')\n",
    "            createFolder(subfolder)\n",
    "            oldpath=os.path.join(input_folder,items)\n",
    "            shutil.copy(oldpath,subfolder)\n",
    "        elif items[-6:] == \"Fa.wav\" or items[-6:] == \"Fb.wav\" or items[-6:] == \"Fc.wav\" or items[-6:] == \"Fd.wav\" or items[-6:] == \"Fe.wav\" or items[-6:] == \"Ff.wav\":\n",
    "            subfolder=os.path.join(input_folder,'happiness')\n",
    "            createFolder(subfolder)\n",
    "            oldpath=os.path.join(input_folder,items)\n",
    "            shutil.copy(oldpath,subfolder)\n",
    "        elif items[-6:] == \"Ta.wav\" or items[-6:] == \"Tb.wav\" or items[-6:] == \"Tc.wav\" or items[-6:] == \"Td.wav\":\n",
    "            subfolder=os.path.join(input_folder,'sadness')\n",
    "            createFolder(subfolder)\n",
    "            oldpath=os.path.join(input_folder,items)\n",
    "            shutil.copy(oldpath,subfolder)"
   ]
  },
  {
   "cell_type": "code",
   "execution_count": null,
   "metadata": {},
   "outputs": [],
   "source": []
  }
 ],
 "metadata": {
  "kernelspec": {
   "display_name": "Python 3",
   "language": "python",
   "name": "python3"
  },
  "language_info": {
   "codemirror_mode": {
    "name": "ipython",
    "version": 3
   },
   "file_extension": ".py",
   "mimetype": "text/x-python",
   "name": "python",
   "nbconvert_exporter": "python",
   "pygments_lexer": "ipython3",
   "version": "3.6.5"
  }
 },
 "nbformat": 4,
 "nbformat_minor": 2
}
